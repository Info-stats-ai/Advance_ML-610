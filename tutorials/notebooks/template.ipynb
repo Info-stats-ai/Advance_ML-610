{
 "cells": [
  {
   "cell_type": "markdown",
   "id": "c3a5dfca",
   "metadata": {
    "ExecuteTime": {
     "end_time": "2024-02-04T11:21:21.811909Z",
     "start_time": "2024-02-04T11:21:21.668399Z"
    }
   },
   "source": [
    "## Imports"
   ]
  },
  {
   "cell_type": "markdown",
   "id": "e3027bbc-7ae3-423f-9a32-baca41fde7fd",
   "metadata": {},
   "source": [
    "### Install packages"
   ]
  },
  {
   "cell_type": "code",
   "execution_count": 10,
   "id": "1d1fc905-ff47-4672-93ba-90258a30cce1",
   "metadata": {},
   "outputs": [],
   "source": [
    "!sudo /bin/bash -c \"(source /venv/bin/activate; pip install --quiet jupyterlab-vim)\"\n",
    "!jupyter labextension enable"
   ]
  },
  {
   "cell_type": "markdown",
   "id": "9c7a36ec-a7df-4005-af4c-c0ac53ad97bd",
   "metadata": {},
   "source": [
    "### Import modules"
   ]
  },
  {
   "cell_type": "code",
   "execution_count": 37,
   "id": "f3e8d4eb",
   "metadata": {
    "ExecuteTime": {
     "end_time": "2024-08-04T21:09:56.844932Z",
     "start_time": "2024-08-04T21:09:56.430866Z"
    }
   },
   "outputs": [
    {
     "name": "stdout",
     "output_type": "stream",
     "text": [
      "The autoreload extension is already loaded. To reload it, use:\n",
      "  %reload_ext autoreload\n"
     ]
    }
   ],
   "source": [
    "%load_ext autoreload\n",
    "%autoreload 2\n",
    "\n",
    "import logging\n",
    "\n",
    "import arviz as az\n",
    "import pandas as pd\n",
    "import xarray as xr\n",
    "import pymc as pm\n",
    "import numpy as np\n",
    "import seaborn as sns\n",
    "import scipy.stats as stats\n",
    "import matplotlib.pyplot as plt\n",
    "import preliz as pz"
   ]
  },
  {
   "cell_type": "code",
   "execution_count": 2,
   "id": "c0a9bb01-086a-4c00-90c0-4b2a0d026884",
   "metadata": {},
   "outputs": [
    {
     "name": "stderr",
     "output_type": "stream",
     "text": [
      "WARNING (pytensor.tensor.blas): Using NumPy C-API based implementation for BLAS functions.\n"
     ]
    },
    {
     "name": "stdout",
     "output_type": "stream",
     "text": [
      "# Setting notebook style\n",
      "# Notebook signature\n",
      "Python 3.12.3\n",
      "Linux f8ec18aa6a94 6.12.5-linuxkit #1 SMP Tue Jan 21 10:23:32 UTC 2025 aarch64 aarch64 aarch64 GNU/Linux\n",
      "numpy version=1.26.4\n",
      "pymc version=5.18.2\n",
      "matplotlib version=3.10.1\n",
      "arviz version=0.21.0\n",
      "preliz version=0.4.1\n"
     ]
    }
   ],
   "source": [
    "import msml610_utils as ut\n",
    "\n",
    "ut.config_notebook()"
   ]
  }
 ],
 "metadata": {
  "jupytext": {
   "formats": "ipynb,py:percent"
  },
  "kernelspec": {
   "display_name": "Python 3 (ipykernel)",
   "language": "python",
   "name": "python3"
  },
  "language_info": {
   "codemirror_mode": {
    "name": "ipython",
    "version": 3
   },
   "file_extension": ".py",
   "mimetype": "text/x-python",
   "name": "python",
   "nbconvert_exporter": "python",
   "pygments_lexer": "ipython3",
   "version": "3.12.3"
  },
  "toc": {
   "base_numbering": 1,
   "nav_menu": {},
   "number_sections": true,
   "sideBar": true,
   "skip_h1_title": false,
   "title_cell": "Table of Contents",
   "title_sidebar": "Contents",
   "toc_cell": false,
   "toc_position": {
    "height": "calc(100% - 180px)",
    "left": "10px",
    "top": "150px",
    "width": "165px"
   },
   "toc_section_display": true,
   "toc_window_display": true
  }
 },
 "nbformat": 4,
 "nbformat_minor": 5
}
